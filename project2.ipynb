{
 "cells": [
  {
   "cell_type": "markdown",
   "id": "a7a10459",
   "metadata": {},
   "source": [
    "# Import all the libraries needed"
   ]
  },
  {
   "cell_type": "code",
   "execution_count": null,
   "id": "6a8531c9",
   "metadata": {},
   "outputs": [],
   "source": [
    "\n",
    "import pandas as pd    # to load dataset\n",
    "import numpy as np     # for mathematic equation\n",
    "from nltk.corpus import stopwords   # to get collection of stopwords\n",
    "from sklearn.model_selection import train_test_split       # for splitting dataset\n",
    "from tensorflow.keras.preprocessing.text import Tokenizer  # to encode text to int\n",
    "from tensorflow.keras.preprocessing.sequence import pad_sequences   # to do padding or truncating\n",
    "from tensorflow.keras.models import Sequential     # the model\n",
    "from tensorflow.keras.layers import Embedding, LSTM, Dense # layers of the architecture\n",
    "from tensorflow.keras.callbacks import ModelCheckpoint   # save model\n",
    "from tensorflow.keras.models import load_model   # load saved model\n",
    "import re"
   ]
  },
  {
   "cell_type": "markdown",
   "id": "77c02cf2",
   "metadata": {},
   "source": [
    "# Import data"
   ]
  },
  {
   "cell_type": "markdown",
   "id": "7f2c5791",
   "metadata": {},
   "source": [
    "## Load data set"
   ]
  },
  {
   "cell_type": "code",
   "execution_count": 85,
   "id": "87462f9a",
   "metadata": {},
   "outputs": [],
   "source": [
    "test_data = pd.read_csv(\"phm_test.csv\")\n",
    "train_data = pd.read_csv(\"phm_train.csv\")"
   ]
  },
  {
   "cell_type": "code",
   "execution_count": 86,
   "id": "5413046a",
   "metadata": {},
   "outputs": [
    {
     "data": {
      "text/html": [
       "<div>\n",
       "<style scoped>\n",
       "    .dataframe tbody tr th:only-of-type {\n",
       "        vertical-align: middle;\n",
       "    }\n",
       "\n",
       "    .dataframe tbody tr th {\n",
       "        vertical-align: top;\n",
       "    }\n",
       "\n",
       "    .dataframe thead th {\n",
       "        text-align: right;\n",
       "    }\n",
       "</style>\n",
       "<table border=\"1\" class=\"dataframe\">\n",
       "  <thead>\n",
       "    <tr style=\"text-align: right;\">\n",
       "      <th></th>\n",
       "      <th>tweet_id</th>\n",
       "      <th>label</th>\n",
       "      <th>tweet</th>\n",
       "    </tr>\n",
       "  </thead>\n",
       "  <tbody>\n",
       "    <tr>\n",
       "      <th>0</th>\n",
       "      <td>6.411550e+17</td>\n",
       "      <td>0</td>\n",
       "      <td>when you try to run away from the iv needle so...</td>\n",
       "    </tr>\n",
       "    <tr>\n",
       "      <th>1</th>\n",
       "      <td>6.425520e+17</td>\n",
       "      <td>1</td>\n",
       "      <td>i just knew i took an ambien for sleep too ear...</td>\n",
       "    </tr>\n",
       "    <tr>\n",
       "      <th>2</th>\n",
       "      <td>6.410410e+17</td>\n",
       "      <td>1</td>\n",
       "      <td>i mean i get that my celexa is the reason behi...</td>\n",
       "    </tr>\n",
       "    <tr>\n",
       "      <th>3</th>\n",
       "      <td>7.476620e+17</td>\n",
       "      <td>0</td>\n",
       "      <td>if you call me dumb or her dumb one more time ...</td>\n",
       "    </tr>\n",
       "    <tr>\n",
       "      <th>4</th>\n",
       "      <td>6.406830e+17</td>\n",
       "      <td>0</td>\n",
       "      <td>i do not want to go to the grocery store but i...</td>\n",
       "    </tr>\n",
       "  </tbody>\n",
       "</table>\n",
       "</div>"
      ],
      "text/plain": [
       "       tweet_id  label                                              tweet\n",
       "0  6.411550e+17      0  when you try to run away from the iv needle so...\n",
       "1  6.425520e+17      1  i just knew i took an ambien for sleep too ear...\n",
       "2  6.410410e+17      1  i mean i get that my celexa is the reason behi...\n",
       "3  7.476620e+17      0  if you call me dumb or her dumb one more time ...\n",
       "4  6.406830e+17      0  i do not want to go to the grocery store but i..."
      ]
     },
     "execution_count": 86,
     "metadata": {},
     "output_type": "execute_result"
    }
   ],
   "source": [
    "test_data.head(5)"
   ]
  },
  {
   "cell_type": "code",
   "execution_count": 87,
   "id": "507dfeb7",
   "metadata": {},
   "outputs": [
    {
     "data": {
      "text/html": [
       "<div>\n",
       "<style scoped>\n",
       "    .dataframe tbody tr th:only-of-type {\n",
       "        vertical-align: middle;\n",
       "    }\n",
       "\n",
       "    .dataframe tbody tr th {\n",
       "        vertical-align: top;\n",
       "    }\n",
       "\n",
       "    .dataframe thead th {\n",
       "        text-align: right;\n",
       "    }\n",
       "</style>\n",
       "<table border=\"1\" class=\"dataframe\">\n",
       "  <thead>\n",
       "    <tr style=\"text-align: right;\">\n",
       "      <th></th>\n",
       "      <th>tweet_id</th>\n",
       "      <th>label</th>\n",
       "      <th>tweet</th>\n",
       "    </tr>\n",
       "  </thead>\n",
       "  <tbody>\n",
       "    <tr>\n",
       "      <th>0</th>\n",
       "      <td>6.430000e+17</td>\n",
       "      <td>0</td>\n",
       "      <td>user_mention all i can tell you is i have had ...</td>\n",
       "    </tr>\n",
       "    <tr>\n",
       "      <th>1</th>\n",
       "      <td>6.440000e+17</td>\n",
       "      <td>0</td>\n",
       "      <td>my doctor told me stop he gave me sum pop i mi...</td>\n",
       "    </tr>\n",
       "    <tr>\n",
       "      <th>2</th>\n",
       "      <td>8.150000e+17</td>\n",
       "      <td>1</td>\n",
       "      <td>i take tylenol and i wake up in the middle of ...</td>\n",
       "    </tr>\n",
       "    <tr>\n",
       "      <th>3</th>\n",
       "      <td>6.820000e+17</td>\n",
       "      <td>0</td>\n",
       "      <td>i got xans in an advil bottle i dont take them...</td>\n",
       "    </tr>\n",
       "    <tr>\n",
       "      <th>4</th>\n",
       "      <td>6.440000e+17</td>\n",
       "      <td>1</td>\n",
       "      <td>mom says i need to stop eating so much bc ive ...</td>\n",
       "    </tr>\n",
       "  </tbody>\n",
       "</table>\n",
       "</div>"
      ],
      "text/plain": [
       "       tweet_id  label                                              tweet\n",
       "0  6.430000e+17      0  user_mention all i can tell you is i have had ...\n",
       "1  6.440000e+17      0  my doctor told me stop he gave me sum pop i mi...\n",
       "2  8.150000e+17      1  i take tylenol and i wake up in the middle of ...\n",
       "3  6.820000e+17      0  i got xans in an advil bottle i dont take them...\n",
       "4  6.440000e+17      1  mom says i need to stop eating so much bc ive ..."
      ]
     },
     "execution_count": 87,
     "metadata": {},
     "output_type": "execute_result"
    }
   ],
   "source": [
    "train_data.head(5)"
   ]
  },
  {
   "cell_type": "markdown",
   "id": "94e4827c",
   "metadata": {},
   "source": [
    "## Remove `tweet_id` column"
   ]
  },
  {
   "cell_type": "code",
   "execution_count": 88,
   "id": "7195df6b",
   "metadata": {},
   "outputs": [],
   "source": [
    "test_data_new = test_data.drop(columns=\"tweet_id\",axis=1)"
   ]
  },
  {
   "cell_type": "code",
   "execution_count": 89,
   "id": "e41256fe",
   "metadata": {},
   "outputs": [],
   "source": [
    "train_data_new = train_data.drop(columns=\"tweet_id\",axis=1)"
   ]
  },
  {
   "cell_type": "code",
   "execution_count": 90,
   "id": "06735273",
   "metadata": {},
   "outputs": [
    {
     "data": {
      "text/plain": [
       "(   label                                              tweet\n",
       " 0      0  when you try to run away from the iv needle so...\n",
       " 1      1  i just knew i took an ambien for sleep too ear...\n",
       " 2      1  i mean i get that my celexa is the reason behi...\n",
       " 3      0  if you call me dumb or her dumb one more time ...\n",
       " 4      0  i do not want to go to the grocery store but i...,\n",
       "    label                                              tweet\n",
       " 0      0  user_mention all i can tell you is i have had ...\n",
       " 1      0  my doctor told me stop he gave me sum pop i mi...\n",
       " 2      1  i take tylenol and i wake up in the middle of ...\n",
       " 3      0  i got xans in an advil bottle i dont take them...\n",
       " 4      1  mom says i need to stop eating so much bc ive ...)"
      ]
     },
     "execution_count": 90,
     "metadata": {},
     "output_type": "execute_result"
    }
   ],
   "source": [
    "test_data_new.head(5) , train_data_new.head(5)"
   ]
  },
  {
   "cell_type": "code",
   "execution_count": 91,
   "id": "8d3f3d4a",
   "metadata": {},
   "outputs": [
    {
     "name": "stderr",
     "output_type": "stream",
     "text": [
      "[nltk_data] Downloading package stopwords to C:\\Users\\Induwara\n",
      "[nltk_data]     Dilshan\\AppData\\Roaming\\nltk_data...\n",
      "[nltk_data]   Package stopwords is already up-to-date!\n"
     ]
    }
   ],
   "source": [
    "import nltk\n",
    "nltk.download('stopwords')\n",
    "from nltk.corpus import stopwords\n",
    "english_stops = set(stopwords.words('english'))"
   ]
  },
  {
   "cell_type": "markdown",
   "id": "3f07d560",
   "metadata": {},
   "source": [
    "# PRE-PROCESS"
   ]
  },
  {
   "cell_type": "code",
   "execution_count": 92,
   "id": "38ad4231",
   "metadata": {},
   "outputs": [
    {
     "name": "stdout",
     "output_type": "stream",
     "text": [
      "tweet\n",
      "0       [user, mention, tell, relapses, cure, hear, do...\n",
      "1       [doctor, told, stop, gave, sum, pop, mix, w, a...\n",
      "2       [take, tylenol, wake, middle, night, put, ice,...\n",
      "3       [got, xans, advil, bottle, dont, take, shits, ...\n",
      "4       [mom, says, need, stop, eating, much, bc, ive,...\n",
      "                              ...                        \n",
      "9986                                    [vicodin, messed]\n",
      "9987                   [user, mention, get, tylenol, lol]\n",
      "9988                         [like, walking, tamiflu, ad]\n",
      "9989                              [klay, steph, steroids]\n",
      "9990                [horrible, pops, another, xanax, url]\n",
      "Name: tweet, Length: 9991, dtype: object \n",
      "\n",
      "label\n",
      "0       0\n",
      "1       0\n",
      "2       1\n",
      "3       0\n",
      "4       1\n",
      "       ..\n",
      "9986    1\n",
      "9987    0\n",
      "9988    0\n",
      "9989    0\n",
      "9990    0\n",
      "Name: label, Length: 9991, dtype: int64\n"
     ]
    }
   ],
   "source": [
    "def load_dataset_train():\n",
    "    x_data_train = train_data_new['tweet']       # Reviews/Input\n",
    "    y_data_train = train_data_new['label']    # Sentiment/Output\n",
    "\n",
    "\n",
    "    # PRE-PROCESS REVIEW\n",
    "    x_data_train = x_data_train.replace({'<.*?>': ''}, regex = True)          # remove html tag\n",
    "    x_data_train = x_data_train.replace({'[^A-Za-z]': ' '}, regex = True)     # remove non alphabet\n",
    "    x_data_train = x_data_train.apply(lambda review: [w for w in review.split() if w not in english_stops])  # remove stop words\n",
    "    x_data_train = x_data_train.apply(lambda review: [w.lower() for w in review])   # lower case\n",
    "\n",
    "    return x_data_train, y_data_train\n",
    "\n",
    "x_data_train, y_data_train = load_dataset_train()\n",
    "\n",
    "print('tweet')\n",
    "print(x_data_train, '\\n')\n",
    "print('label')\n",
    "print(y_data_train)"
   ]
  },
  {
   "cell_type": "code",
   "execution_count": 93,
   "id": "1e20881e",
   "metadata": {},
   "outputs": [
    {
     "name": "stdout",
     "output_type": "stream",
     "text": [
      "tweet\n",
      "0       [try, run, away, iv, needle, doctor, drug, w, ...\n",
      "1       [knew, took, ambien, sleep, early, im, ready, ...\n",
      "2       [mean, get, celexa, reason, behind, lot, weigh...\n",
      "3       [call, dumb, dumb, one, time, dont, care, many...\n",
      "4       [want, go, grocery, store, cant, pay, anyone, ...\n",
      "                              ...                        \n",
      "3326                           [fina, take, xanax, knock]\n",
      "3327               [user, mention, yr, citalopram, right]\n",
      "3328              [user, mention, yeah, im, going, norco]\n",
      "3329              [user, mention, tylenol, w, codin, lol]\n",
      "3330                [thats, determination, steroids, url]\n",
      "Name: tweet, Length: 3331, dtype: object \n",
      "\n",
      "label\n",
      "0       0\n",
      "1       1\n",
      "2       1\n",
      "3       0\n",
      "4       0\n",
      "       ..\n",
      "3326    0\n",
      "3327    0\n",
      "3328    0\n",
      "3329    0\n",
      "3330    0\n",
      "Name: label, Length: 3331, dtype: int64\n"
     ]
    }
   ],
   "source": [
    "def load_dataset_test():\n",
    "    x_data_test = test_data_new['tweet']       # Reviews/Input\n",
    "    y_data_test = test_data_new['label']    # Sentiment/Output\n",
    "\n",
    "\n",
    "    # PRE-PROCESS REVIEW\n",
    "    x_data_test = x_data_test.replace({'<.*?>': ''}, regex = True)          # remove html tag\n",
    "    x_data_test = x_data_test.replace({'[^A-Za-z]': ' '}, regex = True)     # remove non alphabet\n",
    "    x_data_test = x_data_test.apply(lambda review: [w for w in review.split() if w not in english_stops])  # remove stop words\n",
    "    x_data_test = x_data_test.apply(lambda review: [w.lower() for w in review])   # lower case\n",
    "\n",
    "    return x_data_test, y_data_test\n",
    "\n",
    "x_data_test, y_data_test = load_dataset_test()\n",
    "\n",
    "print('tweet')\n",
    "print(x_data_test, '\\n')\n",
    "print('label')\n",
    "print(y_data_test)"
   ]
  },
  {
   "cell_type": "markdown",
   "id": "815c8e78",
   "metadata": {},
   "source": [
    "# train and test split"
   ]
  },
  {
   "cell_type": "code",
   "execution_count": 94,
   "id": "72b1e9c5",
   "metadata": {},
   "outputs": [],
   "source": [
    "x_train = x_data_train\n",
    "y_train = y_data_train\n",
    "x_test = x_data_test\n",
    "y_test = y_data_test"
   ]
  },
  {
   "cell_type": "code",
   "execution_count": 95,
   "id": "60c24312",
   "metadata": {},
   "outputs": [
    {
     "name": "stdout",
     "output_type": "stream",
     "text": [
      "x train \n",
      "0       [user, mention, tell, relapses, cure, hear, do...\n",
      "1       [doctor, told, stop, gave, sum, pop, mix, w, a...\n",
      "2       [take, tylenol, wake, middle, night, put, ice,...\n",
      "3       [got, xans, advil, bottle, dont, take, shits, ...\n",
      "4       [mom, says, need, stop, eating, much, bc, ive,...\n",
      "                              ...                        \n",
      "9986                                    [vicodin, messed]\n",
      "9987                   [user, mention, get, tylenol, lol]\n",
      "9988                         [like, walking, tamiflu, ad]\n",
      "9989                              [klay, steph, steroids]\n",
      "9990                [horrible, pops, another, xanax, url]\n",
      "Name: tweet, Length: 9991, dtype: object\n",
      "x test\n",
      "0       [try, run, away, iv, needle, doctor, drug, w, ...\n",
      "1       [knew, took, ambien, sleep, early, im, ready, ...\n",
      "2       [mean, get, celexa, reason, behind, lot, weigh...\n",
      "3       [call, dumb, dumb, one, time, dont, care, many...\n",
      "4       [want, go, grocery, store, cant, pay, anyone, ...\n",
      "                              ...                        \n",
      "3326                           [fina, take, xanax, knock]\n",
      "3327               [user, mention, yr, citalopram, right]\n",
      "3328              [user, mention, yeah, im, going, norco]\n",
      "3329              [user, mention, tylenol, w, codin, lol]\n",
      "3330                [thats, determination, steroids, url]\n",
      "Name: tweet, Length: 3331, dtype: object \n",
      "\n",
      "y_train\n",
      "0       0\n",
      "1       0\n",
      "2       1\n",
      "3       0\n",
      "4       1\n",
      "       ..\n",
      "9986    1\n",
      "9987    0\n",
      "9988    0\n",
      "9989    0\n",
      "9990    0\n",
      "Name: label, Length: 9991, dtype: int64 \n",
      "\n",
      "y test\n",
      "0       0\n",
      "1       1\n",
      "2       1\n",
      "3       0\n",
      "4       0\n",
      "       ..\n",
      "3326    0\n",
      "3327    0\n",
      "3328    0\n",
      "3329    0\n",
      "3330    0\n",
      "Name: label, Length: 3331, dtype: int64\n"
     ]
    }
   ],
   "source": [
    "print(\"x train \")\n",
    "print(x_train)\n",
    "\n",
    "print(\"x test\")\n",
    "print(x_test,\"\\n\")\n",
    "\n",
    "print(\"y_train\")\n",
    "print(y_train,\"\\n\")\n",
    "\n",
    "print(\"y test\")\n",
    "print(y_test)"
   ]
  },
  {
   "cell_type": "code",
   "execution_count": 96,
   "id": "009e58bc",
   "metadata": {},
   "outputs": [],
   "source": [
    "#Function for getting the maximum review length, by calculating the mean of all the reviews length (using numpy.mean)\n",
    "def get_max_length():\n",
    "    tweet_length = []\n",
    "    for tweet in x_train:\n",
    "        tweet_length.append(len(tweet))\n",
    "\n",
    "    return int(np.ceil(np.mean(tweet_length)))"
   ]
  },
  {
   "cell_type": "code",
   "execution_count": 97,
   "id": "b6108d25",
   "metadata": {},
   "outputs": [
    {
     "name": "stdout",
     "output_type": "stream",
     "text": [
      "10\n"
     ]
    }
   ],
   "source": [
    "print(get_max_length())"
   ]
  },
  {
   "cell_type": "code",
   "execution_count": 98,
   "id": "4aedd2b2",
   "metadata": {},
   "outputs": [
    {
     "name": "stdout",
     "output_type": "stream",
     "text": [
      "Encoded X Train\n",
      " [[    2     1   200 ...   944  3624  1952]\n",
      " [  115   122   147 ...   193    40   322]\n",
      " [    6     3   330 ...   626  1710    29]\n",
      " ...\n",
      " [    7   529  1739 ...     0     0     0]\n",
      " [12658 12659     8 ...     0     0     0]\n",
      " [  645  1436   174 ...     0     0     0]] \n",
      "\n",
      "Encoded X Test\n",
      " [[  98  606  109 ...  193    4  318]\n",
      " [ 585   11   56 ...   16  707   55]\n",
      " [ 327   12 1209 ...  778    5   88]\n",
      " ...\n",
      " [   2    1  126 ...    0    0    0]\n",
      " [   2    1    3 ...    0    0    0]\n",
      " [  59    8    9 ...    0    0    0]] \n",
      "\n",
      "Maximum review length:  10\n"
     ]
    }
   ],
   "source": [
    "#Tokenize and Pad/Truncate Reviews\n",
    "#post, pad or truncate the words in the back of a sentence\n",
    "#pre, pad or truncate the words in front of a sentence\n",
    "\n",
    "# ENCODE REVIEW\n",
    "token = Tokenizer(lower=False)    # no need lower, because already lowered the data in load_data()\n",
    "token.fit_on_texts(x_train)\n",
    "x_train = token.texts_to_sequences(x_train)\n",
    "x_test = token.texts_to_sequences(x_test)\n",
    "\n",
    "max_length = get_max_length()\n",
    "\n",
    "x_train = pad_sequences(x_train, maxlen=max_length, padding='post', truncating='post')\n",
    "x_test = pad_sequences(x_test, maxlen=max_length, padding='post', truncating='post')\n",
    "\n",
    "total_words = len(token.word_index) + 1   # add 1 because of 0 padding\n",
    "\n",
    "print('Encoded X Train\\n', x_train, '\\n')\n",
    "print('Encoded X Test\\n', x_test, '\\n')\n",
    "print('Maximum review length: ', max_length)"
   ]
  },
  {
   "cell_type": "code",
   "execution_count": 99,
   "id": "1a17f073",
   "metadata": {},
   "outputs": [
    {
     "name": "stderr",
     "output_type": "stream",
     "text": [
      "c:\\Users\\Induwara Dilshan\\AppData\\Local\\Programs\\Python\\Python311\\Lib\\site-packages\\keras\\src\\layers\\core\\embedding.py:93: UserWarning: Do not pass an `input_shape`/`input_dim` argument to a layer. When using Sequential models, prefer using an `Input(shape)` object as the first layer in the model instead.\n",
      "  super().__init__(**kwargs)\n"
     ]
    },
    {
     "data": {
      "text/html": [
       "<pre style=\"white-space:pre;overflow-x:auto;line-height:normal;font-family:Menlo,'DejaVu Sans Mono',consolas,'Courier New',monospace\"><span style=\"font-weight: bold\">Model: \"sequential_6\"</span>\n",
       "</pre>\n"
      ],
      "text/plain": [
       "\u001b[1mModel: \"sequential_6\"\u001b[0m\n"
      ]
     },
     "metadata": {},
     "output_type": "display_data"
    },
    {
     "data": {
      "text/html": [
       "<pre style=\"white-space:pre;overflow-x:auto;line-height:normal;font-family:Menlo,'DejaVu Sans Mono',consolas,'Courier New',monospace\">┏━━━━━━━━━━━━━━━━━━━━━━━━━━━━━━━━━┳━━━━━━━━━━━━━━━━━━━━━━━━┳━━━━━━━━━━━━━━━┓\n",
       "┃<span style=\"font-weight: bold\"> Layer (type)                    </span>┃<span style=\"font-weight: bold\"> Output Shape           </span>┃<span style=\"font-weight: bold\">       Param # </span>┃\n",
       "┡━━━━━━━━━━━━━━━━━━━━━━━━━━━━━━━━━╇━━━━━━━━━━━━━━━━━━━━━━━━╇━━━━━━━━━━━━━━━┩\n",
       "│ embedding_6 (<span style=\"color: #0087ff; text-decoration-color: #0087ff\">Embedding</span>)         │ (<span style=\"color: #00d7ff; text-decoration-color: #00d7ff\">None</span>, <span style=\"color: #00af00; text-decoration-color: #00af00\">10</span>, <span style=\"color: #00af00; text-decoration-color: #00af00\">32</span>)         │       <span style=\"color: #00af00; text-decoration-color: #00af00\">405,120</span> │\n",
       "├─────────────────────────────────┼────────────────────────┼───────────────┤\n",
       "│ lstm_6 (<span style=\"color: #0087ff; text-decoration-color: #0087ff\">LSTM</span>)                   │ (<span style=\"color: #00d7ff; text-decoration-color: #00d7ff\">None</span>, <span style=\"color: #00af00; text-decoration-color: #00af00\">64</span>)             │        <span style=\"color: #00af00; text-decoration-color: #00af00\">24,832</span> │\n",
       "├─────────────────────────────────┼────────────────────────┼───────────────┤\n",
       "│ dense_6 (<span style=\"color: #0087ff; text-decoration-color: #0087ff\">Dense</span>)                 │ (<span style=\"color: #00d7ff; text-decoration-color: #00d7ff\">None</span>, <span style=\"color: #00af00; text-decoration-color: #00af00\">1</span>)              │            <span style=\"color: #00af00; text-decoration-color: #00af00\">65</span> │\n",
       "└─────────────────────────────────┴────────────────────────┴───────────────┘\n",
       "</pre>\n"
      ],
      "text/plain": [
       "┏━━━━━━━━━━━━━━━━━━━━━━━━━━━━━━━━━┳━━━━━━━━━━━━━━━━━━━━━━━━┳━━━━━━━━━━━━━━━┓\n",
       "┃\u001b[1m \u001b[0m\u001b[1mLayer (type)                   \u001b[0m\u001b[1m \u001b[0m┃\u001b[1m \u001b[0m\u001b[1mOutput Shape          \u001b[0m\u001b[1m \u001b[0m┃\u001b[1m \u001b[0m\u001b[1m      Param #\u001b[0m\u001b[1m \u001b[0m┃\n",
       "┡━━━━━━━━━━━━━━━━━━━━━━━━━━━━━━━━━╇━━━━━━━━━━━━━━━━━━━━━━━━╇━━━━━━━━━━━━━━━┩\n",
       "│ embedding_6 (\u001b[38;5;33mEmbedding\u001b[0m)         │ (\u001b[38;5;45mNone\u001b[0m, \u001b[38;5;34m10\u001b[0m, \u001b[38;5;34m32\u001b[0m)         │       \u001b[38;5;34m405,120\u001b[0m │\n",
       "├─────────────────────────────────┼────────────────────────┼───────────────┤\n",
       "│ lstm_6 (\u001b[38;5;33mLSTM\u001b[0m)                   │ (\u001b[38;5;45mNone\u001b[0m, \u001b[38;5;34m64\u001b[0m)             │        \u001b[38;5;34m24,832\u001b[0m │\n",
       "├─────────────────────────────────┼────────────────────────┼───────────────┤\n",
       "│ dense_6 (\u001b[38;5;33mDense\u001b[0m)                 │ (\u001b[38;5;45mNone\u001b[0m, \u001b[38;5;34m1\u001b[0m)              │            \u001b[38;5;34m65\u001b[0m │\n",
       "└─────────────────────────────────┴────────────────────────┴───────────────┘\n"
      ]
     },
     "metadata": {},
     "output_type": "display_data"
    },
    {
     "data": {
      "text/html": [
       "<pre style=\"white-space:pre;overflow-x:auto;line-height:normal;font-family:Menlo,'DejaVu Sans Mono',consolas,'Courier New',monospace\"><span style=\"font-weight: bold\"> Total params: </span><span style=\"color: #00af00; text-decoration-color: #00af00\">430,017</span> (1.64 MB)\n",
       "</pre>\n"
      ],
      "text/plain": [
       "\u001b[1m Total params: \u001b[0m\u001b[38;5;34m430,017\u001b[0m (1.64 MB)\n"
      ]
     },
     "metadata": {},
     "output_type": "display_data"
    },
    {
     "data": {
      "text/html": [
       "<pre style=\"white-space:pre;overflow-x:auto;line-height:normal;font-family:Menlo,'DejaVu Sans Mono',consolas,'Courier New',monospace\"><span style=\"font-weight: bold\"> Trainable params: </span><span style=\"color: #00af00; text-decoration-color: #00af00\">430,017</span> (1.64 MB)\n",
       "</pre>\n"
      ],
      "text/plain": [
       "\u001b[1m Trainable params: \u001b[0m\u001b[38;5;34m430,017\u001b[0m (1.64 MB)\n"
      ]
     },
     "metadata": {},
     "output_type": "display_data"
    },
    {
     "data": {
      "text/html": [
       "<pre style=\"white-space:pre;overflow-x:auto;line-height:normal;font-family:Menlo,'DejaVu Sans Mono',consolas,'Courier New',monospace\"><span style=\"font-weight: bold\"> Non-trainable params: </span><span style=\"color: #00af00; text-decoration-color: #00af00\">0</span> (0.00 B)\n",
       "</pre>\n"
      ],
      "text/plain": [
       "\u001b[1m Non-trainable params: \u001b[0m\u001b[38;5;34m0\u001b[0m (0.00 B)\n"
      ]
     },
     "metadata": {},
     "output_type": "display_data"
    },
    {
     "name": "stdout",
     "output_type": "stream",
     "text": [
      "None\n"
     ]
    }
   ],
   "source": [
    "# ARCHITECTURE\n",
    "EMBED_DIM = 32\n",
    "LSTM_OUT = 64\n",
    "\n",
    "model = Sequential()\n",
    "model.add(Embedding(total_words, EMBED_DIM, input_shape=(max_length,)))\n",
    "model.add(LSTM(LSTM_OUT))\n",
    "model.add(Dense(1, activation='sigmoid'))\n",
    "\n",
    "# Compile the model to build it\n",
    "model.compile(optimizer='adam', \n",
    "              loss='binary_crossentropy', \n",
    "              metrics=['accuracy'])\n",
    "\n",
    "print(model.summary())"
   ]
  },
  {
   "cell_type": "markdown",
   "id": "cd182884",
   "metadata": {},
   "source": [
    "# Model Training"
   ]
  },
  {
   "cell_type": "code",
   "execution_count": 100,
   "id": "aace0584",
   "metadata": {},
   "outputs": [],
   "source": [
    "checkpoint = ModelCheckpoint(\n",
    "    'models/LSTM.keras',\n",
    "    monitor='accuracy',\n",
    "    save_best_only=True,\n",
    "    verbose=1\n",
    ")"
   ]
  },
  {
   "cell_type": "code",
   "execution_count": 101,
   "id": "152ee827",
   "metadata": {},
   "outputs": [
    {
     "name": "stdout",
     "output_type": "stream",
     "text": [
      "Epoch 1/5\n",
      "\u001b[1m78/79\u001b[0m \u001b[32m━━━━━━━━━━━━━━━━━━━\u001b[0m\u001b[37m━\u001b[0m \u001b[1m0s\u001b[0m 13ms/step - accuracy: 0.6952 - loss: 0.6193\n",
      "Epoch 1: accuracy improved from -inf to 0.73236, saving model to models/LSTM.keras\n",
      "\u001b[1m79/79\u001b[0m \u001b[32m━━━━━━━━━━━━━━━━━━━━\u001b[0m\u001b[37m\u001b[0m \u001b[1m5s\u001b[0m 15ms/step - accuracy: 0.6961 - loss: 0.6179\n",
      "Epoch 2/5\n",
      "\u001b[1m76/79\u001b[0m \u001b[32m━━━━━━━━━━━━━━━━━━━\u001b[0m\u001b[37m━\u001b[0m \u001b[1m0s\u001b[0m 15ms/step - accuracy: 0.8324 - loss: 0.3827\n",
      "Epoch 2: accuracy improved from 0.73236 to 0.83845, saving model to models/LSTM.keras\n",
      "\u001b[1m79/79\u001b[0m \u001b[32m━━━━━━━━━━━━━━━━━━━━\u001b[0m\u001b[37m\u001b[0m \u001b[1m1s\u001b[0m 16ms/step - accuracy: 0.8327 - loss: 0.3821\n",
      "Epoch 3/5\n",
      "\u001b[1m77/79\u001b[0m \u001b[32m━━━━━━━━━━━━━━━━━━━\u001b[0m\u001b[37m━\u001b[0m \u001b[1m0s\u001b[0m 14ms/step - accuracy: 0.8909 - loss: 0.2761\n",
      "Epoch 3: accuracy improved from 0.83845 to 0.88420, saving model to models/LSTM.keras\n",
      "\u001b[1m79/79\u001b[0m \u001b[32m━━━━━━━━━━━━━━━━━━━━\u001b[0m\u001b[37m\u001b[0m \u001b[1m1s\u001b[0m 15ms/step - accuracy: 0.8906 - loss: 0.2763\n",
      "Epoch 4/5\n",
      "\u001b[1m75/79\u001b[0m \u001b[32m━━━━━━━━━━━━━━━━━━\u001b[0m\u001b[37m━━\u001b[0m \u001b[1m0s\u001b[0m 15ms/step - accuracy: 0.9168 - loss: 0.2282\n",
      "Epoch 4: accuracy improved from 0.88420 to 0.91232, saving model to models/LSTM.keras\n",
      "\u001b[1m79/79\u001b[0m \u001b[32m━━━━━━━━━━━━━━━━━━━━\u001b[0m\u001b[37m\u001b[0m \u001b[1m1s\u001b[0m 16ms/step - accuracy: 0.9165 - loss: 0.2281\n",
      "Epoch 5/5\n",
      "\u001b[1m77/79\u001b[0m \u001b[32m━━━━━━━━━━━━━━━━━━━\u001b[0m\u001b[37m━\u001b[0m \u001b[1m0s\u001b[0m 13ms/step - accuracy: 0.9372 - loss: 0.1750\n",
      "Epoch 5: accuracy improved from 0.91232 to 0.92814, saving model to models/LSTM.keras\n",
      "\u001b[1m79/79\u001b[0m \u001b[32m━━━━━━━━━━━━━━━━━━━━\u001b[0m\u001b[37m\u001b[0m \u001b[1m1s\u001b[0m 13ms/step - accuracy: 0.9369 - loss: 0.1754\n"
     ]
    },
    {
     "data": {
      "text/plain": [
       "<keras.src.callbacks.history.History at 0x1d042664e90>"
      ]
     },
     "execution_count": 101,
     "metadata": {},
     "output_type": "execute_result"
    }
   ],
   "source": [
    "model.fit(x_train, y_train, batch_size = 128, epochs = 5, callbacks=[checkpoint])"
   ]
  },
  {
   "cell_type": "markdown",
   "id": "4df1052e",
   "metadata": {},
   "source": [
    "# Model testing"
   ]
  },
  {
   "cell_type": "code",
   "execution_count": 102,
   "id": "c3f2fdb9",
   "metadata": {},
   "outputs": [
    {
     "name": "stdout",
     "output_type": "stream",
     "text": [
      "\u001b[1m105/105\u001b[0m \u001b[32m━━━━━━━━━━━━━━━━━━━━\u001b[0m\u001b[37m\u001b[0m \u001b[1m1s\u001b[0m 4ms/step\n",
      "Correct Prediction: 2686\n",
      "Wrong Prediction: 645\n",
      "Accuracy: 80.6364455118583\n"
     ]
    }
   ],
   "source": [
    "pred = model.predict(x=x_test)\n",
    "y_pred = (pred >= 0.5) * 1\n",
    "\n",
    "#y_pred = model.predict(x_test)\n",
    "\n",
    "true = 0\n",
    "for i, y in enumerate(y_test):\n",
    "    if y == y_pred[i]:\n",
    "        true += 1\n",
    "\n",
    "\n",
    "print('Correct Prediction: {}'.format(true))\n",
    "print('Wrong Prediction: {}'.format(len(y_pred) - true))\n",
    "print('Accuracy: {}'.format(true/len(y_pred)*100))"
   ]
  },
  {
   "cell_type": "markdown",
   "id": "5c50fb1d",
   "metadata": {},
   "source": [
    "# Improve model Accuracy"
   ]
  },
  {
   "cell_type": "markdown",
   "id": "025ab4f8",
   "metadata": {},
   "source": [
    "* Adding dropout : working\n",
    "* Adding Dense layer : NOT working\n",
    "* Adding Dropout layer : NOT working\n",
    "* Adding more LSTM layer : NOT working\n",
    "* changing adam learning rate : NOT working\n",
    "* changing number of epochs : NOT working "
   ]
  },
  {
   "cell_type": "markdown",
   "id": "157c1c3f",
   "metadata": {},
   "source": [
    "### Again code"
   ]
  },
  {
   "cell_type": "code",
   "execution_count": 103,
   "id": "24fbda19",
   "metadata": {},
   "outputs": [],
   "source": [
    "from tensorflow.keras.layers import Dropout"
   ]
  },
  {
   "cell_type": "code",
   "execution_count": 104,
   "id": "e64eb198",
   "metadata": {},
   "outputs": [
    {
     "data": {
      "text/html": [
       "<pre style=\"white-space:pre;overflow-x:auto;line-height:normal;font-family:Menlo,'DejaVu Sans Mono',consolas,'Courier New',monospace\"><span style=\"font-weight: bold\">Model: \"sequential_7\"</span>\n",
       "</pre>\n"
      ],
      "text/plain": [
       "\u001b[1mModel: \"sequential_7\"\u001b[0m\n"
      ]
     },
     "metadata": {},
     "output_type": "display_data"
    },
    {
     "data": {
      "text/html": [
       "<pre style=\"white-space:pre;overflow-x:auto;line-height:normal;font-family:Menlo,'DejaVu Sans Mono',consolas,'Courier New',monospace\">┏━━━━━━━━━━━━━━━━━━━━━━━━━━━━━━━━━┳━━━━━━━━━━━━━━━━━━━━━━━━┳━━━━━━━━━━━━━━━┓\n",
       "┃<span style=\"font-weight: bold\"> Layer (type)                    </span>┃<span style=\"font-weight: bold\"> Output Shape           </span>┃<span style=\"font-weight: bold\">       Param # </span>┃\n",
       "┡━━━━━━━━━━━━━━━━━━━━━━━━━━━━━━━━━╇━━━━━━━━━━━━━━━━━━━━━━━━╇━━━━━━━━━━━━━━━┩\n",
       "│ embedding_7 (<span style=\"color: #0087ff; text-decoration-color: #0087ff\">Embedding</span>)         │ (<span style=\"color: #00d7ff; text-decoration-color: #00d7ff\">None</span>, <span style=\"color: #00af00; text-decoration-color: #00af00\">10</span>, <span style=\"color: #00af00; text-decoration-color: #00af00\">32</span>)         │       <span style=\"color: #00af00; text-decoration-color: #00af00\">405,120</span> │\n",
       "├─────────────────────────────────┼────────────────────────┼───────────────┤\n",
       "│ lstm_7 (<span style=\"color: #0087ff; text-decoration-color: #0087ff\">LSTM</span>)                   │ (<span style=\"color: #00d7ff; text-decoration-color: #00d7ff\">None</span>, <span style=\"color: #00af00; text-decoration-color: #00af00\">64</span>)             │        <span style=\"color: #00af00; text-decoration-color: #00af00\">24,832</span> │\n",
       "├─────────────────────────────────┼────────────────────────┼───────────────┤\n",
       "│ dense_7 (<span style=\"color: #0087ff; text-decoration-color: #0087ff\">Dense</span>)                 │ (<span style=\"color: #00d7ff; text-decoration-color: #00d7ff\">None</span>, <span style=\"color: #00af00; text-decoration-color: #00af00\">1</span>)              │            <span style=\"color: #00af00; text-decoration-color: #00af00\">65</span> │\n",
       "└─────────────────────────────────┴────────────────────────┴───────────────┘\n",
       "</pre>\n"
      ],
      "text/plain": [
       "┏━━━━━━━━━━━━━━━━━━━━━━━━━━━━━━━━━┳━━━━━━━━━━━━━━━━━━━━━━━━┳━━━━━━━━━━━━━━━┓\n",
       "┃\u001b[1m \u001b[0m\u001b[1mLayer (type)                   \u001b[0m\u001b[1m \u001b[0m┃\u001b[1m \u001b[0m\u001b[1mOutput Shape          \u001b[0m\u001b[1m \u001b[0m┃\u001b[1m \u001b[0m\u001b[1m      Param #\u001b[0m\u001b[1m \u001b[0m┃\n",
       "┡━━━━━━━━━━━━━━━━━━━━━━━━━━━━━━━━━╇━━━━━━━━━━━━━━━━━━━━━━━━╇━━━━━━━━━━━━━━━┩\n",
       "│ embedding_7 (\u001b[38;5;33mEmbedding\u001b[0m)         │ (\u001b[38;5;45mNone\u001b[0m, \u001b[38;5;34m10\u001b[0m, \u001b[38;5;34m32\u001b[0m)         │       \u001b[38;5;34m405,120\u001b[0m │\n",
       "├─────────────────────────────────┼────────────────────────┼───────────────┤\n",
       "│ lstm_7 (\u001b[38;5;33mLSTM\u001b[0m)                   │ (\u001b[38;5;45mNone\u001b[0m, \u001b[38;5;34m64\u001b[0m)             │        \u001b[38;5;34m24,832\u001b[0m │\n",
       "├─────────────────────────────────┼────────────────────────┼───────────────┤\n",
       "│ dense_7 (\u001b[38;5;33mDense\u001b[0m)                 │ (\u001b[38;5;45mNone\u001b[0m, \u001b[38;5;34m1\u001b[0m)              │            \u001b[38;5;34m65\u001b[0m │\n",
       "└─────────────────────────────────┴────────────────────────┴───────────────┘\n"
      ]
     },
     "metadata": {},
     "output_type": "display_data"
    },
    {
     "data": {
      "text/html": [
       "<pre style=\"white-space:pre;overflow-x:auto;line-height:normal;font-family:Menlo,'DejaVu Sans Mono',consolas,'Courier New',monospace\"><span style=\"font-weight: bold\"> Total params: </span><span style=\"color: #00af00; text-decoration-color: #00af00\">430,017</span> (1.64 MB)\n",
       "</pre>\n"
      ],
      "text/plain": [
       "\u001b[1m Total params: \u001b[0m\u001b[38;5;34m430,017\u001b[0m (1.64 MB)\n"
      ]
     },
     "metadata": {},
     "output_type": "display_data"
    },
    {
     "data": {
      "text/html": [
       "<pre style=\"white-space:pre;overflow-x:auto;line-height:normal;font-family:Menlo,'DejaVu Sans Mono',consolas,'Courier New',monospace\"><span style=\"font-weight: bold\"> Trainable params: </span><span style=\"color: #00af00; text-decoration-color: #00af00\">430,017</span> (1.64 MB)\n",
       "</pre>\n"
      ],
      "text/plain": [
       "\u001b[1m Trainable params: \u001b[0m\u001b[38;5;34m430,017\u001b[0m (1.64 MB)\n"
      ]
     },
     "metadata": {},
     "output_type": "display_data"
    },
    {
     "data": {
      "text/html": [
       "<pre style=\"white-space:pre;overflow-x:auto;line-height:normal;font-family:Menlo,'DejaVu Sans Mono',consolas,'Courier New',monospace\"><span style=\"font-weight: bold\"> Non-trainable params: </span><span style=\"color: #00af00; text-decoration-color: #00af00\">0</span> (0.00 B)\n",
       "</pre>\n"
      ],
      "text/plain": [
       "\u001b[1m Non-trainable params: \u001b[0m\u001b[38;5;34m0\u001b[0m (0.00 B)\n"
      ]
     },
     "metadata": {},
     "output_type": "display_data"
    },
    {
     "name": "stdout",
     "output_type": "stream",
     "text": [
      "None\n"
     ]
    }
   ],
   "source": [
    "# ARCHITECTURE\n",
    "EMBED_DIM = 32\n",
    "LSTM_OUT = 64\n",
    "\n",
    "model_1 = Sequential()\n",
    "model_1.add(Embedding(total_words, EMBED_DIM, input_shape=(max_length,)))\n",
    "model_1.add(LSTM(LSTM_OUT,dropout=0.2))\n",
    "model_1.add(Dense(1, activation='sigmoid'))\n",
    "\n",
    "# Compile the model to build it\n",
    "model_1.compile(optimizer= \"adam\", \n",
    "              loss='binary_crossentropy', \n",
    "              metrics=['accuracy'])\n",
    "\n",
    "print(model_1.summary())"
   ]
  },
  {
   "cell_type": "code",
   "execution_count": 105,
   "id": "7bc23677",
   "metadata": {},
   "outputs": [],
   "source": [
    "checkpoint = ModelCheckpoint(\n",
    "    'model_1/LSTM.keras',\n",
    "    monitor='accuracy',\n",
    "    save_best_only=True,\n",
    "    verbose=1\n",
    ")"
   ]
  },
  {
   "cell_type": "code",
   "execution_count": 106,
   "id": "1f64ce35",
   "metadata": {},
   "outputs": [
    {
     "name": "stdout",
     "output_type": "stream",
     "text": [
      "Epoch 1/5\n",
      "\u001b[1m78/79\u001b[0m \u001b[32m━━━━━━━━━━━━━━━━━━━\u001b[0m\u001b[37m━\u001b[0m \u001b[1m0s\u001b[0m 16ms/step - accuracy: 0.7010 - loss: 0.6264\n",
      "Epoch 1: accuracy improved from -inf to 0.72695, saving model to model_1/LSTM.keras\n",
      "\u001b[1m79/79\u001b[0m \u001b[32m━━━━━━━━━━━━━━━━━━━━\u001b[0m\u001b[37m\u001b[0m \u001b[1m9s\u001b[0m 18ms/step - accuracy: 0.7017 - loss: 0.6250\n",
      "Epoch 2/5\n",
      "\u001b[1m75/79\u001b[0m \u001b[32m━━━━━━━━━━━━━━━━━━\u001b[0m\u001b[37m━━\u001b[0m \u001b[1m0s\u001b[0m 13ms/step - accuracy: 0.8293 - loss: 0.3992\n",
      "Epoch 2: accuracy improved from 0.72695 to 0.83195, saving model to model_1/LSTM.keras\n",
      "\u001b[1m79/79\u001b[0m \u001b[32m━━━━━━━━━━━━━━━━━━━━\u001b[0m\u001b[37m\u001b[0m \u001b[1m1s\u001b[0m 13ms/step - accuracy: 0.8295 - loss: 0.3984\n",
      "Epoch 3/5\n",
      "\u001b[1m75/79\u001b[0m \u001b[32m━━━━━━━━━━━━━━━━━━\u001b[0m\u001b[37m━━\u001b[0m \u001b[1m0s\u001b[0m 11ms/step - accuracy: 0.8774 - loss: 0.2959\n",
      "Epoch 3: accuracy improved from 0.83195 to 0.87349, saving model to model_1/LSTM.keras\n",
      "\u001b[1m79/79\u001b[0m \u001b[32m━━━━━━━━━━━━━━━━━━━━\u001b[0m\u001b[37m\u001b[0m \u001b[1m1s\u001b[0m 12ms/step - accuracy: 0.8772 - loss: 0.2961\n",
      "Epoch 4/5\n",
      "\u001b[1m76/79\u001b[0m \u001b[32m━━━━━━━━━━━━━━━━━━━\u001b[0m\u001b[37m━\u001b[0m \u001b[1m0s\u001b[0m 13ms/step - accuracy: 0.9004 - loss: 0.2513\n",
      "Epoch 4: accuracy improved from 0.87349 to 0.90311, saving model to model_1/LSTM.keras\n",
      "\u001b[1m79/79\u001b[0m \u001b[32m━━━━━━━━━━━━━━━━━━━━\u001b[0m\u001b[37m\u001b[0m \u001b[1m1s\u001b[0m 14ms/step - accuracy: 0.9006 - loss: 0.2507\n",
      "Epoch 5/5\n",
      "\u001b[1m79/79\u001b[0m \u001b[32m━━━━━━━━━━━━━━━━━━━━\u001b[0m\u001b[37m\u001b[0m \u001b[1m0s\u001b[0m 12ms/step - accuracy: 0.9282 - loss: 0.1944\n",
      "Epoch 5: accuracy improved from 0.90311 to 0.92213, saving model to model_1/LSTM.keras\n",
      "\u001b[1m79/79\u001b[0m \u001b[32m━━━━━━━━━━━━━━━━━━━━\u001b[0m\u001b[37m\u001b[0m \u001b[1m1s\u001b[0m 14ms/step - accuracy: 0.9281 - loss: 0.1945\n"
     ]
    }
   ],
   "source": [
    "history_1 = model_1.fit(x_train, y_train, batch_size = 128, epochs = 5, callbacks=[checkpoint])"
   ]
  },
  {
   "cell_type": "code",
   "execution_count": 107,
   "id": "335c86a3",
   "metadata": {},
   "outputs": [
    {
     "name": "stdout",
     "output_type": "stream",
     "text": [
      "\u001b[1m105/105\u001b[0m \u001b[32m━━━━━━━━━━━━━━━━━━━━\u001b[0m\u001b[37m\u001b[0m \u001b[1m1s\u001b[0m 7ms/step\n",
      "Correct Prediction: 2694\n",
      "Wrong Prediction: 637\n",
      "Accuracy: 80.87661362954069\n"
     ]
    }
   ],
   "source": [
    "pred = model_1.predict(x=x_test)\n",
    "y_pred = (pred >= 0.5) * 1\n",
    "\n",
    "# y_pred = model.predict(x_test)\n",
    "\n",
    "true = 0\n",
    "for i, y in enumerate(y_test):\n",
    "    if y == y_pred[i]:\n",
    "        true += 1\n",
    "\n",
    "\n",
    "print('Correct Prediction: {}'.format(true))\n",
    "print('Wrong Prediction: {}'.format(len(y_pred) - true))\n",
    "print('Accuracy: {}'.format(true/len(y_pred)*100))"
   ]
  },
  {
   "cell_type": "markdown",
   "id": "d8928e9c",
   "metadata": {},
   "source": [
    "# Using  `Bi-LSTM model`"
   ]
  },
  {
   "cell_type": "code",
   "execution_count": 108,
   "id": "6c8704ba",
   "metadata": {},
   "outputs": [],
   "source": [
    "from tensorflow.keras.layers import Bidirectional"
   ]
  },
  {
   "cell_type": "code",
   "execution_count": 109,
   "id": "45053206",
   "metadata": {},
   "outputs": [
    {
     "data": {
      "text/html": [
       "<pre style=\"white-space:pre;overflow-x:auto;line-height:normal;font-family:Menlo,'DejaVu Sans Mono',consolas,'Courier New',monospace\"><span style=\"font-weight: bold\">Model: \"sequential_8\"</span>\n",
       "</pre>\n"
      ],
      "text/plain": [
       "\u001b[1mModel: \"sequential_8\"\u001b[0m\n"
      ]
     },
     "metadata": {},
     "output_type": "display_data"
    },
    {
     "data": {
      "text/html": [
       "<pre style=\"white-space:pre;overflow-x:auto;line-height:normal;font-family:Menlo,'DejaVu Sans Mono',consolas,'Courier New',monospace\">┏━━━━━━━━━━━━━━━━━━━━━━━━━━━━━━━━━┳━━━━━━━━━━━━━━━━━━━━━━━━┳━━━━━━━━━━━━━━━┓\n",
       "┃<span style=\"font-weight: bold\"> Layer (type)                    </span>┃<span style=\"font-weight: bold\"> Output Shape           </span>┃<span style=\"font-weight: bold\">       Param # </span>┃\n",
       "┡━━━━━━━━━━━━━━━━━━━━━━━━━━━━━━━━━╇━━━━━━━━━━━━━━━━━━━━━━━━╇━━━━━━━━━━━━━━━┩\n",
       "│ embedding_8 (<span style=\"color: #0087ff; text-decoration-color: #0087ff\">Embedding</span>)         │ (<span style=\"color: #00d7ff; text-decoration-color: #00d7ff\">None</span>, <span style=\"color: #00af00; text-decoration-color: #00af00\">10</span>, <span style=\"color: #00af00; text-decoration-color: #00af00\">32</span>)         │       <span style=\"color: #00af00; text-decoration-color: #00af00\">405,120</span> │\n",
       "├─────────────────────────────────┼────────────────────────┼───────────────┤\n",
       "│ bidirectional_2 (<span style=\"color: #0087ff; text-decoration-color: #0087ff\">Bidirectional</span>) │ (<span style=\"color: #00d7ff; text-decoration-color: #00d7ff\">None</span>, <span style=\"color: #00af00; text-decoration-color: #00af00\">128</span>)            │        <span style=\"color: #00af00; text-decoration-color: #00af00\">49,664</span> │\n",
       "├─────────────────────────────────┼────────────────────────┼───────────────┤\n",
       "│ dense_8 (<span style=\"color: #0087ff; text-decoration-color: #0087ff\">Dense</span>)                 │ (<span style=\"color: #00d7ff; text-decoration-color: #00d7ff\">None</span>, <span style=\"color: #00af00; text-decoration-color: #00af00\">1</span>)              │           <span style=\"color: #00af00; text-decoration-color: #00af00\">129</span> │\n",
       "└─────────────────────────────────┴────────────────────────┴───────────────┘\n",
       "</pre>\n"
      ],
      "text/plain": [
       "┏━━━━━━━━━━━━━━━━━━━━━━━━━━━━━━━━━┳━━━━━━━━━━━━━━━━━━━━━━━━┳━━━━━━━━━━━━━━━┓\n",
       "┃\u001b[1m \u001b[0m\u001b[1mLayer (type)                   \u001b[0m\u001b[1m \u001b[0m┃\u001b[1m \u001b[0m\u001b[1mOutput Shape          \u001b[0m\u001b[1m \u001b[0m┃\u001b[1m \u001b[0m\u001b[1m      Param #\u001b[0m\u001b[1m \u001b[0m┃\n",
       "┡━━━━━━━━━━━━━━━━━━━━━━━━━━━━━━━━━╇━━━━━━━━━━━━━━━━━━━━━━━━╇━━━━━━━━━━━━━━━┩\n",
       "│ embedding_8 (\u001b[38;5;33mEmbedding\u001b[0m)         │ (\u001b[38;5;45mNone\u001b[0m, \u001b[38;5;34m10\u001b[0m, \u001b[38;5;34m32\u001b[0m)         │       \u001b[38;5;34m405,120\u001b[0m │\n",
       "├─────────────────────────────────┼────────────────────────┼───────────────┤\n",
       "│ bidirectional_2 (\u001b[38;5;33mBidirectional\u001b[0m) │ (\u001b[38;5;45mNone\u001b[0m, \u001b[38;5;34m128\u001b[0m)            │        \u001b[38;5;34m49,664\u001b[0m │\n",
       "├─────────────────────────────────┼────────────────────────┼───────────────┤\n",
       "│ dense_8 (\u001b[38;5;33mDense\u001b[0m)                 │ (\u001b[38;5;45mNone\u001b[0m, \u001b[38;5;34m1\u001b[0m)              │           \u001b[38;5;34m129\u001b[0m │\n",
       "└─────────────────────────────────┴────────────────────────┴───────────────┘\n"
      ]
     },
     "metadata": {},
     "output_type": "display_data"
    },
    {
     "data": {
      "text/html": [
       "<pre style=\"white-space:pre;overflow-x:auto;line-height:normal;font-family:Menlo,'DejaVu Sans Mono',consolas,'Courier New',monospace\"><span style=\"font-weight: bold\"> Total params: </span><span style=\"color: #00af00; text-decoration-color: #00af00\">454,913</span> (1.74 MB)\n",
       "</pre>\n"
      ],
      "text/plain": [
       "\u001b[1m Total params: \u001b[0m\u001b[38;5;34m454,913\u001b[0m (1.74 MB)\n"
      ]
     },
     "metadata": {},
     "output_type": "display_data"
    },
    {
     "data": {
      "text/html": [
       "<pre style=\"white-space:pre;overflow-x:auto;line-height:normal;font-family:Menlo,'DejaVu Sans Mono',consolas,'Courier New',monospace\"><span style=\"font-weight: bold\"> Trainable params: </span><span style=\"color: #00af00; text-decoration-color: #00af00\">454,913</span> (1.74 MB)\n",
       "</pre>\n"
      ],
      "text/plain": [
       "\u001b[1m Trainable params: \u001b[0m\u001b[38;5;34m454,913\u001b[0m (1.74 MB)\n"
      ]
     },
     "metadata": {},
     "output_type": "display_data"
    },
    {
     "data": {
      "text/html": [
       "<pre style=\"white-space:pre;overflow-x:auto;line-height:normal;font-family:Menlo,'DejaVu Sans Mono',consolas,'Courier New',monospace\"><span style=\"font-weight: bold\"> Non-trainable params: </span><span style=\"color: #00af00; text-decoration-color: #00af00\">0</span> (0.00 B)\n",
       "</pre>\n"
      ],
      "text/plain": [
       "\u001b[1m Non-trainable params: \u001b[0m\u001b[38;5;34m0\u001b[0m (0.00 B)\n"
      ]
     },
     "metadata": {},
     "output_type": "display_data"
    },
    {
     "name": "stdout",
     "output_type": "stream",
     "text": [
      "None\n"
     ]
    }
   ],
   "source": [
    "# ARCHITECTURE\n",
    "EMBED_DIM = 32\n",
    "LSTM_OUT = 64\n",
    "\n",
    "model_bi_LSTM = Sequential()\n",
    "model_bi_LSTM.add(Embedding(total_words, EMBED_DIM, input_shape=(max_length,)))\n",
    "model_bi_LSTM.add(Bidirectional(LSTM(LSTM_OUT,dropout = 0.2)))\n",
    "model_bi_LSTM.add(Dense(1, activation='sigmoid'))\n",
    "\n",
    "# Compile the model to build it\n",
    "model_bi_LSTM.compile(optimizer= \"adam\", \n",
    "              loss='binary_crossentropy', \n",
    "              metrics=['accuracy'])\n",
    "\n",
    "print(model_bi_LSTM.summary())"
   ]
  },
  {
   "cell_type": "code",
   "execution_count": 110,
   "id": "5453de14",
   "metadata": {},
   "outputs": [],
   "source": [
    "checkpoint = ModelCheckpoint(\n",
    "    'model_bi_LSTM/LSTM.keras',\n",
    "    monitor='accuracy',\n",
    "    save_best_only=True,\n",
    "    verbose=1\n",
    ")"
   ]
  },
  {
   "cell_type": "code",
   "execution_count": 111,
   "id": "f1784166",
   "metadata": {},
   "outputs": [
    {
     "name": "stdout",
     "output_type": "stream",
     "text": [
      "Epoch 1/5\n",
      "\u001b[1m77/79\u001b[0m \u001b[32m━━━━━━━━━━━━━━━━━━━\u001b[0m\u001b[37m━\u001b[0m \u001b[1m0s\u001b[0m 16ms/step - accuracy: 0.7101 - loss: 0.6122\n",
      "Epoch 1: accuracy improved from -inf to 0.73806, saving model to model_bi_LSTM/LSTM.keras\n",
      "\u001b[1m79/79\u001b[0m \u001b[32m━━━━━━━━━━━━━━━━━━━━\u001b[0m\u001b[37m\u001b[0m \u001b[1m5s\u001b[0m 17ms/step - accuracy: 0.7112 - loss: 0.6099\n",
      "Epoch 2/5\n",
      "\u001b[1m78/79\u001b[0m \u001b[32m━━━━━━━━━━━━━━━━━━━\u001b[0m\u001b[37m━\u001b[0m \u001b[1m0s\u001b[0m 18ms/step - accuracy: 0.8422 - loss: 0.3668\n",
      "Epoch 2: accuracy improved from 0.73806 to 0.84266, saving model to model_bi_LSTM/LSTM.keras\n",
      "\u001b[1m79/79\u001b[0m \u001b[32m━━━━━━━━━━━━━━━━━━━━\u001b[0m\u001b[37m\u001b[0m \u001b[1m1s\u001b[0m 18ms/step - accuracy: 0.8423 - loss: 0.3667\n",
      "Epoch 3/5\n",
      "\u001b[1m77/79\u001b[0m \u001b[32m━━━━━━━━━━━━━━━━━━━\u001b[0m\u001b[37m━\u001b[0m \u001b[1m0s\u001b[0m 19ms/step - accuracy: 0.8853 - loss: 0.2770\n",
      "Epoch 3: accuracy improved from 0.84266 to 0.88249, saving model to model_bi_LSTM/LSTM.keras\n",
      "\u001b[1m79/79\u001b[0m \u001b[32m━━━━━━━━━━━━━━━━━━━━\u001b[0m\u001b[37m\u001b[0m \u001b[1m2s\u001b[0m 19ms/step - accuracy: 0.8852 - loss: 0.2772\n",
      "Epoch 4/5\n",
      "\u001b[1m77/79\u001b[0m \u001b[32m━━━━━━━━━━━━━━━━━━━\u001b[0m\u001b[37m━\u001b[0m \u001b[1m0s\u001b[0m 22ms/step - accuracy: 0.9187 - loss: 0.2138\n",
      "Epoch 4: accuracy improved from 0.88249 to 0.91122, saving model to model_bi_LSTM/LSTM.keras\n",
      "\u001b[1m79/79\u001b[0m \u001b[32m━━━━━━━━━━━━━━━━━━━━\u001b[0m\u001b[37m\u001b[0m \u001b[1m2s\u001b[0m 23ms/step - accuracy: 0.9184 - loss: 0.2142\n",
      "Epoch 5/5\n",
      "\u001b[1m75/79\u001b[0m \u001b[32m━━━━━━━━━━━━━━━━━━\u001b[0m\u001b[37m━━\u001b[0m \u001b[1m0s\u001b[0m 16ms/step - accuracy: 0.9342 - loss: 0.1760\n",
      "Epoch 5: accuracy improved from 0.91122 to 0.92954, saving model to model_bi_LSTM/LSTM.keras\n",
      "\u001b[1m79/79\u001b[0m \u001b[32m━━━━━━━━━━━━━━━━━━━━\u001b[0m\u001b[37m\u001b[0m \u001b[1m1s\u001b[0m 16ms/step - accuracy: 0.9339 - loss: 0.1765\n"
     ]
    }
   ],
   "source": [
    "history_2 = model_bi_LSTM.fit(x_train, y_train, batch_size = 128, epochs = 5, callbacks=[checkpoint])"
   ]
  },
  {
   "cell_type": "code",
   "execution_count": 112,
   "id": "6f7132f8",
   "metadata": {},
   "outputs": [
    {
     "name": "stdout",
     "output_type": "stream",
     "text": [
      "\u001b[1m105/105\u001b[0m \u001b[32m━━━━━━━━━━━━━━━━━━━━\u001b[0m\u001b[37m\u001b[0m \u001b[1m1s\u001b[0m 6ms/step\n",
      "Correct Prediction: 2678\n",
      "Wrong Prediction: 653\n",
      "Accuracy: 80.39627739417593\n"
     ]
    }
   ],
   "source": [
    "pred = model_bi_LSTM.predict(x=x_test)\n",
    "y_pred = (pred >= 0.5) * 1\n",
    "\n",
    "#y_pred = model.predict(x_test)\n",
    "\n",
    "true = 0\n",
    "for i, y in enumerate(y_test):\n",
    "    if y == y_pred[i]:\n",
    "        true += 1\n",
    "\n",
    "\n",
    "print('Correct Prediction: {}'.format(true))\n",
    "print('Wrong Prediction: {}'.format(len(y_pred) - true))\n",
    "print('Accuracy: {}'.format(true/len(y_pred)*100))"
   ]
  },
  {
   "cell_type": "markdown",
   "id": "5fa42d52",
   "metadata": {},
   "source": [
    "# Accuracy and loss plot of `model_1 and model_bi_LSTM`"
   ]
  },
  {
   "cell_type": "code",
   "execution_count": 116,
   "id": "7abb4436",
   "metadata": {},
   "outputs": [
    {
     "name": "stdout",
     "output_type": "stream",
     "text": [
      "\u001b[1m105/105\u001b[0m \u001b[32m━━━━━━━━━━━━━━━━━━━━\u001b[0m\u001b[37m\u001b[0m \u001b[1m0s\u001b[0m 2ms/step - accuracy: 0.7858 - loss: 0.5756\n",
      "\u001b[1m105/105\u001b[0m \u001b[32m━━━━━━━━━━━━━━━━━━━━\u001b[0m\u001b[37m\u001b[0m \u001b[1m0s\u001b[0m 2ms/step - accuracy: 0.7867 - loss: 0.6264\n"
     ]
    }
   ],
   "source": [
    "lstm_loss, lstm_accuracy = model_1.evaluate(x_test, y_test)\n",
    "\n",
    "bilstm_loss, bilstm_accuracy = model_bi_LSTM.evaluate(x_test, y_test)"
   ]
  },
  {
   "cell_type": "code",
   "execution_count": 113,
   "id": "ad9d96fc",
   "metadata": {},
   "outputs": [
    {
     "data": {
      "image/png": "[encoded data removed]",
      "text/plain": [
       "<Figure size 640x480 with 1 Axes>"
      ]
     },
     "metadata": {},
     "output_type": "display_data"
    },
    {
     "data": {
      "image/png": "[encoded data removed]",
      "text/plain": [
       "<Figure size 640x480 with 1 Axes>"
      ]
     },
     "metadata": {},
     "output_type": "display_data"
    }
   ],
   "source": [
    "import matplotlib.pyplot as plt\n",
    "\n",
    "# Plot Accuracy\n",
    "plt.plot(history_1.history['accuracy'], label='LSTM Accuracy')\n",
    "plt.plot(history_2.history['accuracy'], label='Bi-LSTM Accuracy')\n",
    "plt.title('Model Accuracy')\n",
    "plt.xlabel('Epoch')\n",
    "plt.ylabel('Accuracy')\n",
    "plt.legend()\n",
    "plt.grid(True)\n",
    "plt.show()\n",
    "\n",
    "# Plot Loss\n",
    "plt.plot(history_1.history['loss'], label='LSTM Loss')\n",
    "plt.plot(history_2.history['loss'], label='Bi-LSTM Loss')\n",
    "plt.title('Model Loss')\n",
    "plt.xlabel('Epoch')\n",
    "plt.ylabel('Loss')\n",
    "plt.legend()\n",
    "plt.grid(True)\n",
    "plt.show()"
   ]
  }
 ],
 "metadata": {
  "kernelspec": {
   "display_name": "Python 3",
   "language": "python",
   "name": "python3"
  },
  "language_info": {
   "codemirror_mode": {
    "name": "ipython",
    "version": 3
   },
   "file_extension": ".py",
   "mimetype": "text/x-python",
   "name": "python",
   "nbconvert_exporter": "python",
   "pygments_lexer": "ipython3",
   "version": "3.11.3"
  }
 },
 "nbformat": 4,
 "nbformat_minor": 5
}
